{
 "cells": [
  {
   "cell_type": "markdown",
   "metadata": {},
   "source": []
  },
  {
   "cell_type": "markdown",
   "metadata": {},
   "source": [
    "## Problem statement"
   ]
  },
  {
   "cell_type": "markdown",
   "metadata": {},
   "source": [
    "## Business Objectives "
   ]
  },
  {
   "cell_type": "markdown",
   "metadata": {},
   "source": [
    "* Learn from data and and build a recommender that recommends best TV shows to users, based on self & others behaviour\n",
    "* Predict the rating that a user would give to a movie that he has not yet rated.\n",
    "* Minimize the difference between predicted and actual rating (RMSE and MAPE)."
   ]
  },
  {
   "cell_type": "markdown",
   "metadata": {},
   "source": [
    "# Data Selection"
   ]
  },
  {
   "cell_type": "markdown",
   "metadata": {},
   "source": [
    "The dataset used in this project comes directly from Netflix. The data was used in the Netflix Prize open competition for the best algorithm to predict user ratings for films. \n",
    "\n",
    "Firstly,the data was loaded into the notebook and the scope, type and properties of the data was examined. \n",
    "\n",
    "The documentation attached to the data includes the following descriptions of the data files:\n",
    "\n",
    "\n",
    "**Type of Data:**\n",
    "* There are 17770 unique movie IDs.\n",
    "* There are 480189 unique user IDs.\n",
    "* There are ratings. Ratings are on a five star (integral) scale from 1 to 5.\n",
    "\n",
    "**Data Overview**\n",
    "\n",
    "**Training data:**\n",
    "\n",
    "* combined_data_1.txt\n",
    "* combined_data_2.txt\n",
    "* combined_data_3.txt\n",
    "* combined_data_4.txt\n",
    "\n",
    "The first line of each file contains the movie id followed by a colon. Each subsequent line in the file corresponds to a rating from a customer and its date in the following format: **<CustomerID,Rating,Date>**\n",
    "\n",
    "**Movies file description:**\n",
    "* movie_titles.csv contains movie information in the following format: **<MovieID,YearOfRelease,Title>**\n",
    "* **MovieID** do not correspond to actual Netflix movie id or IMDB movie id\n",
    "* **YearOfRelease**  can range from 1890 to 2005 and may correspond to the release of corresponding DVD, not necessarily its theaterical release.\n",
    "* **Title** is the Netflix movie title and may not correspond to titles used on other sites.\n",
    "* **Titles** are in English."
   ]
  },
  {
   "cell_type": "markdown",
   "metadata": {},
   "source": [
    "# Data Preprocessing and Transformation"
   ]
  },
  {
   "cell_type": "markdown",
   "metadata": {},
   "source": [
    "### 1. Reading and storing the data"
   ]
  },
  {
   "cell_type": "code",
   "execution_count": 1,
   "metadata": {},
   "outputs": [
    {
     "name": "stderr",
     "output_type": "stream",
     "text": [
      "/usr/local/lib/python3.9/site-packages/fuzzywuzzy/fuzz.py:11: UserWarning: Using slow pure-python SequenceMatcher. Install python-Levenshtein to remove this warning\n",
      "  warnings.warn('Using slow pure-python SequenceMatcher. Install python-Levenshtein to remove this warning')\n"
     ]
    }
   ],
   "source": [
    "# To store the data\n",
    "import pandas as pd\n",
    "\n",
    "# To do linear algebra\n",
    "import numpy as np\n",
    "\n",
    "# Libraries for visualisations in the notebook\n",
    "import matplotlib.pyplot as plt\n",
    "import seaborn as sns\n",
    "%matplotlib inline\n",
    "\n",
    "import math\n",
    "import re\n",
    "import os\n",
    "from datetime import datetime\n",
    "\n",
    "from scipy.sparse import csr_matrix\n",
    "from sklearn.neighbors import NearestNeighbors\n",
    "import math\n",
    "\n",
    "# utils import\n",
    "from fuzzywuzzy import fuzz\n",
    "\n",
    "import matplotlib.dates as dates\n",
    "import matplotlib.dates as mdates"
   ]
  },
  {
   "cell_type": "markdown",
   "metadata": {},
   "source": [
    "# Loading Rating Data"
   ]
  },
  {
   "cell_type": "markdown",
   "metadata": {},
   "source": [
    "\n",
    "In the following projekt the Kaggle Netflix Prize data is used. <a name=\"ref-1\"/>[[1]](#netflix-prize)\n",
    "There are multiple data files for different purposes. The following data files are used in this project:\n",
    "\n",
    "**Training data:**\n",
    "\n",
    "* combined_data_1.txt\n",
    "* combined_data_2.txt\n",
    "* combined_data_3.txt\n",
    "* combined_data_4.txt\n",
    "\n",
    "**Movie titles data file:**\n",
    "* movie_titles.csv\n",
    "\n",
    "\n",
    "\n"
   ]
  },
  {
   "cell_type": "code",
   "execution_count": 2,
   "metadata": {},
   "outputs": [],
   "source": [
    "def readFile(file_path, rows=10000):\n",
    "    data_dict = {'Cust_ID' : [], 'Movie_ID' : [], 'Rating' : [], 'Date' : []}\n",
    "    f = open(file_path, \"r\")\n",
    "    count = 0\n",
    "    for line in f:\n",
    "        count += 1\n",
    "        if count > rows:\n",
    "             break\n",
    "            \n",
    "        if ':' in line:\n",
    "            movidId = line[:-2] # remove the last character ':'\n",
    "            movieId = int(movidId)\n",
    "        else:\n",
    "            customerID, rating, date = line.split(',')\n",
    "            data_dict['Cust_ID'].append(customerID)\n",
    "            data_dict['Movie_ID'].append(movieId)\n",
    "            data_dict['Rating'].append(rating)\n",
    "            data_dict['Date'].append(date.rstrip(\"\\n\"))\n",
    "    f.close()\n",
    "            \n",
    "    return pd.DataFrame(data_dict)"
   ]
  },
  {
   "cell_type": "code",
   "execution_count": 3,
   "metadata": {},
   "outputs": [],
   "source": [
    "# Records from each training data file is loaded into memory as Panda DataFrame as follows:\n",
    "\n",
    "df1 = readFile('./data/Netflix_prize_data/combined_data_1.txt')\n",
    "df2 = readFile('./data/Netflix_prize_data/combined_data_2.txt')\n",
    "df3 = readFile('./data/Netflix_prize_data/combined_data_3.txt')\n",
    "df4 = readFile('./data/Netflix_prize_data/combined_data_4.txt')"
   ]
  },
  {
   "cell_type": "code",
   "execution_count": 4,
   "metadata": {
    "scrolled": false
   },
   "outputs": [],
   "source": [
    "# Combine the different DataFrames of training data into one as follows:\n",
    "\n",
    "df_ratings=df1.copy()\n",
    "df_ratings=df_ratings.append(df2)\n",
    "df_ratings=df_ratings.append(df3)\n",
    "df_ratings=df_ratings.append(df4)\n"
   ]
  },
  {
   "cell_type": "code",
   "execution_count": 5,
   "metadata": {
    "scrolled": false
   },
   "outputs": [
    {
     "data": {
      "text/plain": [
       "Cust_ID     object\n",
       "Movie_ID     int64\n",
       "Rating      object\n",
       "Date        object\n",
       "dtype: object"
      ]
     },
     "execution_count": 5,
     "metadata": {},
     "output_type": "execute_result"
    }
   ],
   "source": [
    "# Check the columns types\n",
    "df_ratings.dtypes"
   ]
  },
  {
   "cell_type": "code",
   "execution_count": 6,
   "metadata": {},
   "outputs": [],
   "source": [
    "# Change type of some columns \n",
    "df_ratings['Rating'] = df_ratings['Rating'].astype(float)\n",
    "\n",
    "df_ratings[\"Date\"] = pd.to_datetime(df_ratings[\"Date\"])\n",
    "#df.sort_values(by = \"Date\", inplace = True)"
   ]
  },
  {
   "cell_type": "code",
   "execution_count": 7,
   "metadata": {
    "scrolled": false
   },
   "outputs": [
    {
     "data": {
      "text/plain": [
       "count    39967.000000\n",
       "mean         3.543523\n",
       "std          1.172506\n",
       "min          1.000000\n",
       "25%          3.000000\n",
       "50%          4.000000\n",
       "75%          4.000000\n",
       "max          5.000000\n",
       "Name: Rating, dtype: float64"
      ]
     },
     "execution_count": 7,
     "metadata": {},
     "output_type": "execute_result"
    }
   ],
   "source": [
    "# Basic statistics of Rating  column\n",
    "df_ratings['Rating'].describe()"
   ]
  },
  {
   "cell_type": "code",
   "execution_count": 8,
   "metadata": {
    "scrolled": false
   },
   "outputs": [
    {
     "name": "stdout",
     "output_type": "stream",
     "text": [
      "Dimension: (39967, 4)\n",
      "Number of rows: 39967\n",
      "Number of columns: 4\n"
     ]
    }
   ],
   "source": [
    "# Check the dimension of the DataFrame\n",
    "print (\"Dimension: \"+ str (df_ratings.shape))\n",
    "print (\"Number of rows: \"+ str (df_ratings.shape[0]) )\n",
    "print (\"Number of columns: \"+ str (df_ratings.shape[1]) )"
   ]
  },
  {
   "cell_type": "markdown",
   "metadata": {},
   "source": [
    "### Data cleaning\n",
    "\n",
    "In this step, the primary focus is on handling missing data, noisy data, detection, and removal of outliers, minimizing duplication and computed biases within the data."
   ]
  },
  {
   "cell_type": "markdown",
   "metadata": {},
   "source": [
    "#### Checking for missings"
   ]
  },
  {
   "cell_type": "code",
   "execution_count": 9,
   "metadata": {
    "scrolled": true
   },
   "outputs": [
    {
     "name": "stdout",
     "output_type": "stream",
     "text": [
      "Number of NaN values = Cust_ID     0\n",
      "Movie_ID    0\n",
      "Rating      0\n",
      "Date        0\n",
      "dtype: int64\n"
     ]
    }
   ],
   "source": [
    "print(\"Number of NaN values = \"+str(df_ratings.isnull().sum()))"
   ]
  },
  {
   "cell_type": "code",
   "execution_count": 10,
   "metadata": {
    "scrolled": true
   },
   "outputs": [
    {
     "name": "stdout",
     "output_type": "stream",
     "text": [
      "0.0\n",
      "0.0\n"
     ]
    }
   ],
   "source": [
    "# Check for missings\n",
    "print(len(df_ratings.columns[df_ratings.isna().any()])/len(df_ratings.columns))\n",
    "print(df_ratings.isnull().sum().sum()/np.product(df_ratings.shape))"
   ]
  },
  {
   "cell_type": "markdown",
   "metadata": {},
   "source": [
    "#### Checking for duplicates "
   ]
  },
  {
   "cell_type": "code",
   "execution_count": 11,
   "metadata": {},
   "outputs": [
    {
     "name": "stdout",
     "output_type": "stream",
     "text": [
      "Number of duplicate rows = 0\n"
     ]
    }
   ],
   "source": [
    "# Check for duplicates\n",
    "duplicates = df_ratings.duplicated([\"Cust_ID\", \"Movie_ID\", \"Rating\"])\n",
    "print(\"Number of duplicate rows = \"+str(duplicates.sum()))"
   ]
  },
  {
   "cell_type": "code",
   "execution_count": 12,
   "metadata": {},
   "outputs": [],
   "source": [
    "# Splitting the Date column into year and month \n",
    "df_ratings['year'] = pd.DatetimeIndex(df_ratings['Date']).year\n",
    "df_ratings['month'] = pd.DatetimeIndex(df_ratings['Date']).month"
   ]
  },
  {
   "cell_type": "code",
   "execution_count": 13,
   "metadata": {
    "scrolled": true
   },
   "outputs": [
    {
     "data": {
      "text/html": [
       "<div>\n",
       "<style scoped>\n",
       "    .dataframe tbody tr th:only-of-type {\n",
       "        vertical-align: middle;\n",
       "    }\n",
       "\n",
       "    .dataframe tbody tr th {\n",
       "        vertical-align: top;\n",
       "    }\n",
       "\n",
       "    .dataframe thead th {\n",
       "        text-align: right;\n",
       "    }\n",
       "</style>\n",
       "<table border=\"1\" class=\"dataframe\">\n",
       "  <thead>\n",
       "    <tr style=\"text-align: right;\">\n",
       "      <th></th>\n",
       "      <th>Cust_ID</th>\n",
       "      <th>Movie_ID</th>\n",
       "      <th>Rating</th>\n",
       "      <th>Date</th>\n",
       "      <th>year</th>\n",
       "      <th>month</th>\n",
       "    </tr>\n",
       "  </thead>\n",
       "  <tbody>\n",
       "    <tr>\n",
       "      <th>0</th>\n",
       "      <td>1488844</td>\n",
       "      <td>1</td>\n",
       "      <td>3.0</td>\n",
       "      <td>2005-09-06</td>\n",
       "      <td>2005</td>\n",
       "      <td>9</td>\n",
       "    </tr>\n",
       "    <tr>\n",
       "      <th>1</th>\n",
       "      <td>822109</td>\n",
       "      <td>1</td>\n",
       "      <td>5.0</td>\n",
       "      <td>2005-05-13</td>\n",
       "      <td>2005</td>\n",
       "      <td>5</td>\n",
       "    </tr>\n",
       "    <tr>\n",
       "      <th>2</th>\n",
       "      <td>885013</td>\n",
       "      <td>1</td>\n",
       "      <td>4.0</td>\n",
       "      <td>2005-10-19</td>\n",
       "      <td>2005</td>\n",
       "      <td>10</td>\n",
       "    </tr>\n",
       "    <tr>\n",
       "      <th>3</th>\n",
       "      <td>30878</td>\n",
       "      <td>1</td>\n",
       "      <td>4.0</td>\n",
       "      <td>2005-12-26</td>\n",
       "      <td>2005</td>\n",
       "      <td>12</td>\n",
       "    </tr>\n",
       "    <tr>\n",
       "      <th>4</th>\n",
       "      <td>823519</td>\n",
       "      <td>1</td>\n",
       "      <td>3.0</td>\n",
       "      <td>2004-05-03</td>\n",
       "      <td>2004</td>\n",
       "      <td>5</td>\n",
       "    </tr>\n",
       "  </tbody>\n",
       "</table>\n",
       "</div>"
      ],
      "text/plain": [
       "   Cust_ID  Movie_ID  Rating       Date  year  month\n",
       "0  1488844         1     3.0 2005-09-06  2005      9\n",
       "1   822109         1     5.0 2005-05-13  2005      5\n",
       "2   885013         1     4.0 2005-10-19  2005     10\n",
       "3    30878         1     4.0 2005-12-26  2005     12\n",
       "4   823519         1     3.0 2004-05-03  2004      5"
      ]
     },
     "execution_count": 13,
     "metadata": {},
     "output_type": "execute_result"
    }
   ],
   "source": [
    "df_ratings.head()"
   ]
  },
  {
   "cell_type": "markdown",
   "metadata": {},
   "source": [
    "# Loading Movie Data \n",
    "\n",
    "To read the file correctly, you should pass the encoding that the file was written. We also want to give the columns names:"
   ]
  },
  {
   "cell_type": "code",
   "execution_count": 14,
   "metadata": {
    "scrolled": true
   },
   "outputs": [
    {
     "data": {
      "text/html": [
       "<div>\n",
       "<style scoped>\n",
       "    .dataframe tbody tr th:only-of-type {\n",
       "        vertical-align: middle;\n",
       "    }\n",
       "\n",
       "    .dataframe tbody tr th {\n",
       "        vertical-align: top;\n",
       "    }\n",
       "\n",
       "    .dataframe thead th {\n",
       "        text-align: right;\n",
       "    }\n",
       "</style>\n",
       "<table border=\"1\" class=\"dataframe\">\n",
       "  <thead>\n",
       "    <tr style=\"text-align: right;\">\n",
       "      <th></th>\n",
       "      <th>Movie_ID</th>\n",
       "      <th>YearOfRelease</th>\n",
       "      <th>Movie</th>\n",
       "    </tr>\n",
       "  </thead>\n",
       "  <tbody>\n",
       "    <tr>\n",
       "      <th>0</th>\n",
       "      <td>1</td>\n",
       "      <td>2003.0</td>\n",
       "      <td>Dinosaur Planet</td>\n",
       "    </tr>\n",
       "    <tr>\n",
       "      <th>1</th>\n",
       "      <td>2</td>\n",
       "      <td>2004.0</td>\n",
       "      <td>Isle of Man TT 2004 Review</td>\n",
       "    </tr>\n",
       "    <tr>\n",
       "      <th>2</th>\n",
       "      <td>3</td>\n",
       "      <td>1997.0</td>\n",
       "      <td>Character</td>\n",
       "    </tr>\n",
       "    <tr>\n",
       "      <th>3</th>\n",
       "      <td>4</td>\n",
       "      <td>1994.0</td>\n",
       "      <td>Paula Abdul's Get Up &amp; Dance</td>\n",
       "    </tr>\n",
       "    <tr>\n",
       "      <th>4</th>\n",
       "      <td>5</td>\n",
       "      <td>2004.0</td>\n",
       "      <td>The Rise and Fall of ECW</td>\n",
       "    </tr>\n",
       "  </tbody>\n",
       "</table>\n",
       "</div>"
      ],
      "text/plain": [
       "   Movie_ID  YearOfRelease                         Movie\n",
       "0         1         2003.0               Dinosaur Planet\n",
       "1         2         2004.0    Isle of Man TT 2004 Review\n",
       "2         3         1997.0                     Character\n",
       "3         4         1994.0  Paula Abdul's Get Up & Dance\n",
       "4         5         2004.0      The Rise and Fall of ECW"
      ]
     },
     "execution_count": 14,
     "metadata": {},
     "output_type": "execute_result"
    }
   ],
   "source": [
    "df_movies = pd.read_csv('./data/Netflix_prize_data/movie_titles.csv',\n",
    "                              encoding = \"ISO-8859-1\",   # movie_titles.csv: text/plain; charset=iso-8859-1\n",
    "                              header = None,\n",
    "                              names= ['Movie_ID', 'YearOfRelease','Movie'])      \n",
    "df_movies.head()"
   ]
  },
  {
   "cell_type": "code",
   "execution_count": 15,
   "metadata": {
    "scrolled": true
   },
   "outputs": [
    {
     "data": {
      "text/plain": [
       "Movie_ID           int64\n",
       "YearOfRelease    float64\n",
       "Movie             object\n",
       "dtype: object"
      ]
     },
     "execution_count": 15,
     "metadata": {},
     "output_type": "execute_result"
    }
   ],
   "source": [
    "# Checking the data type\n",
    "df_movies.dtypes"
   ]
  },
  {
   "cell_type": "code",
   "execution_count": 16,
   "metadata": {
    "scrolled": false
   },
   "outputs": [
    {
     "data": {
      "text/plain": [
       "(17770, 3)"
      ]
     },
     "execution_count": 16,
     "metadata": {},
     "output_type": "execute_result"
    }
   ],
   "source": [
    "df_movies.shape"
   ]
  },
  {
   "cell_type": "code",
   "execution_count": 17,
   "metadata": {
    "scrolled": true
   },
   "outputs": [
    {
     "data": {
      "text/html": [
       "<div>\n",
       "<style scoped>\n",
       "    .dataframe tbody tr th:only-of-type {\n",
       "        vertical-align: middle;\n",
       "    }\n",
       "\n",
       "    .dataframe tbody tr th {\n",
       "        vertical-align: top;\n",
       "    }\n",
       "\n",
       "    .dataframe thead th {\n",
       "        text-align: right;\n",
       "    }\n",
       "</style>\n",
       "<table border=\"1\" class=\"dataframe\">\n",
       "  <thead>\n",
       "    <tr style=\"text-align: right;\">\n",
       "      <th></th>\n",
       "      <th>Movie_ID</th>\n",
       "      <th>YearOfRelease</th>\n",
       "      <th>Movie</th>\n",
       "    </tr>\n",
       "  </thead>\n",
       "  <tbody>\n",
       "    <tr>\n",
       "      <th>0</th>\n",
       "      <td>1</td>\n",
       "      <td>2003</td>\n",
       "      <td>Dinosaur Planet</td>\n",
       "    </tr>\n",
       "    <tr>\n",
       "      <th>1</th>\n",
       "      <td>2</td>\n",
       "      <td>2004</td>\n",
       "      <td>Isle of Man TT 2004 Review</td>\n",
       "    </tr>\n",
       "    <tr>\n",
       "      <th>2</th>\n",
       "      <td>3</td>\n",
       "      <td>1997</td>\n",
       "      <td>Character</td>\n",
       "    </tr>\n",
       "    <tr>\n",
       "      <th>3</th>\n",
       "      <td>4</td>\n",
       "      <td>1994</td>\n",
       "      <td>Paula Abdul's Get Up &amp; Dance</td>\n",
       "    </tr>\n",
       "    <tr>\n",
       "      <th>4</th>\n",
       "      <td>5</td>\n",
       "      <td>2004</td>\n",
       "      <td>The Rise and Fall of ECW</td>\n",
       "    </tr>\n",
       "  </tbody>\n",
       "</table>\n",
       "</div>"
      ],
      "text/plain": [
       "   Movie_ID  YearOfRelease                         Movie\n",
       "0         1           2003               Dinosaur Planet\n",
       "1         2           2004    Isle of Man TT 2004 Review\n",
       "2         3           1997                     Character\n",
       "3         4           1994  Paula Abdul's Get Up & Dance\n",
       "4         5           2004      The Rise and Fall of ECW"
      ]
     },
     "execution_count": 17,
     "metadata": {},
     "output_type": "execute_result"
    }
   ],
   "source": [
    "# in order to convert non-finite values (NA or inf) to int\n",
    "df_movies = df_movies.fillna(0)\n",
    "df_movies['YearOfRelease']=df_movies['YearOfRelease'].astype(int)\n",
    "df_movies.head ()"
   ]
  },
  {
   "cell_type": "code",
   "execution_count": 18,
   "metadata": {
    "scrolled": true
   },
   "outputs": [
    {
     "data": {
      "text/plain": [
       "YearOfRelease\n",
       "1896       1\n",
       "1909       1\n",
       "1914       2\n",
       "1918       2\n",
       "1923       2\n",
       "        ... \n",
       "2001    1184\n",
       "2000    1234\n",
       "2003    1271\n",
       "2002    1310\n",
       "2004    1436\n",
       "Name: Movie, Length: 95, dtype: int64"
      ]
     },
     "execution_count": 18,
     "metadata": {},
     "output_type": "execute_result"
    }
   ],
   "source": [
    "movies_per_year = df_movies.groupby('YearOfRelease')['Movie'].count().sort_values()\n",
    "movies_per_year"
   ]
  },
  {
   "cell_type": "markdown",
   "metadata": {},
   "source": [
    "## Data cleaning"
   ]
  },
  {
   "cell_type": "markdown",
   "metadata": {},
   "source": [
    "#### Checking for missings"
   ]
  },
  {
   "cell_type": "code",
   "execution_count": 19,
   "metadata": {},
   "outputs": [
    {
     "name": "stdout",
     "output_type": "stream",
     "text": [
      "Number of NaN values = Movie_ID         0\n",
      "YearOfRelease    0\n",
      "Movie            0\n",
      "dtype: int64\n"
     ]
    }
   ],
   "source": [
    "print(\"Number of NaN values = \"+str(df_movies.isnull().sum()))"
   ]
  },
  {
   "cell_type": "code",
   "execution_count": 20,
   "metadata": {
    "scrolled": true
   },
   "outputs": [
    {
     "name": "stdout",
     "output_type": "stream",
     "text": [
      "0.0\n",
      "0.0\n"
     ]
    }
   ],
   "source": [
    "print(len(df_movies.columns[df_movies.isna().any()])/len(df_movies.columns))\n",
    "print(df_movies.isnull().sum().sum()/np.product(df_movies.shape))"
   ]
  },
  {
   "cell_type": "markdown",
   "metadata": {},
   "source": [
    "#### Checking for duplicates"
   ]
  },
  {
   "cell_type": "code",
   "execution_count": 21,
   "metadata": {},
   "outputs": [
    {
     "name": "stdout",
     "output_type": "stream",
     "text": [
      "Number of duplicate rows = 0\n"
     ]
    }
   ],
   "source": [
    "# Check for duplicates\n",
    "duplicates = df_movies.duplicated([\"Movie_ID\", \"Movie\"])\n",
    "print(\"Number of duplicate rows = \"+str(duplicates.sum()))"
   ]
  },
  {
   "cell_type": "code",
   "execution_count": 22,
   "metadata": {
    "scrolled": false
   },
   "outputs": [
    {
     "data": {
      "text/html": [
       "<div>\n",
       "<style scoped>\n",
       "    .dataframe tbody tr th:only-of-type {\n",
       "        vertical-align: middle;\n",
       "    }\n",
       "\n",
       "    .dataframe tbody tr th {\n",
       "        vertical-align: top;\n",
       "    }\n",
       "\n",
       "    .dataframe thead th {\n",
       "        text-align: right;\n",
       "    }\n",
       "</style>\n",
       "<table border=\"1\" class=\"dataframe\">\n",
       "  <thead>\n",
       "    <tr style=\"text-align: right;\">\n",
       "      <th></th>\n",
       "      <th>Cust_ID</th>\n",
       "      <th>Movie_ID</th>\n",
       "      <th>Rating</th>\n",
       "      <th>Date</th>\n",
       "      <th>year</th>\n",
       "      <th>month</th>\n",
       "      <th>YearOfRelease</th>\n",
       "      <th>Movie</th>\n",
       "    </tr>\n",
       "  </thead>\n",
       "  <tbody>\n",
       "    <tr>\n",
       "      <th>0</th>\n",
       "      <td>1488844</td>\n",
       "      <td>1</td>\n",
       "      <td>3.0</td>\n",
       "      <td>2005-09-06</td>\n",
       "      <td>2005</td>\n",
       "      <td>9</td>\n",
       "      <td>2003</td>\n",
       "      <td>Dinosaur Planet</td>\n",
       "    </tr>\n",
       "    <tr>\n",
       "      <th>1</th>\n",
       "      <td>822109</td>\n",
       "      <td>1</td>\n",
       "      <td>5.0</td>\n",
       "      <td>2005-05-13</td>\n",
       "      <td>2005</td>\n",
       "      <td>5</td>\n",
       "      <td>2003</td>\n",
       "      <td>Dinosaur Planet</td>\n",
       "    </tr>\n",
       "    <tr>\n",
       "      <th>2</th>\n",
       "      <td>885013</td>\n",
       "      <td>1</td>\n",
       "      <td>4.0</td>\n",
       "      <td>2005-10-19</td>\n",
       "      <td>2005</td>\n",
       "      <td>10</td>\n",
       "      <td>2003</td>\n",
       "      <td>Dinosaur Planet</td>\n",
       "    </tr>\n",
       "    <tr>\n",
       "      <th>3</th>\n",
       "      <td>30878</td>\n",
       "      <td>1</td>\n",
       "      <td>4.0</td>\n",
       "      <td>2005-12-26</td>\n",
       "      <td>2005</td>\n",
       "      <td>12</td>\n",
       "      <td>2003</td>\n",
       "      <td>Dinosaur Planet</td>\n",
       "    </tr>\n",
       "    <tr>\n",
       "      <th>4</th>\n",
       "      <td>823519</td>\n",
       "      <td>1</td>\n",
       "      <td>3.0</td>\n",
       "      <td>2004-05-03</td>\n",
       "      <td>2004</td>\n",
       "      <td>5</td>\n",
       "      <td>2003</td>\n",
       "      <td>Dinosaur Planet</td>\n",
       "    </tr>\n",
       "    <tr>\n",
       "      <th>...</th>\n",
       "      <td>...</td>\n",
       "      <td>...</td>\n",
       "      <td>...</td>\n",
       "      <td>...</td>\n",
       "      <td>...</td>\n",
       "      <td>...</td>\n",
       "      <td>...</td>\n",
       "      <td>...</td>\n",
       "    </tr>\n",
       "    <tr>\n",
       "      <th>9984</th>\n",
       "      <td>628670</td>\n",
       "      <td>13378</td>\n",
       "      <td>3.0</td>\n",
       "      <td>2004-09-26</td>\n",
       "      <td>2004</td>\n",
       "      <td>9</td>\n",
       "      <td>1940</td>\n",
       "      <td>His Girl Friday</td>\n",
       "    </tr>\n",
       "    <tr>\n",
       "      <th>9985</th>\n",
       "      <td>699305</td>\n",
       "      <td>13378</td>\n",
       "      <td>5.0</td>\n",
       "      <td>2004-10-04</td>\n",
       "      <td>2004</td>\n",
       "      <td>10</td>\n",
       "      <td>1940</td>\n",
       "      <td>His Girl Friday</td>\n",
       "    </tr>\n",
       "    <tr>\n",
       "      <th>9986</th>\n",
       "      <td>2468329</td>\n",
       "      <td>13378</td>\n",
       "      <td>2.0</td>\n",
       "      <td>2004-10-20</td>\n",
       "      <td>2004</td>\n",
       "      <td>10</td>\n",
       "      <td>1940</td>\n",
       "      <td>His Girl Friday</td>\n",
       "    </tr>\n",
       "    <tr>\n",
       "      <th>9987</th>\n",
       "      <td>1762173</td>\n",
       "      <td>13378</td>\n",
       "      <td>4.0</td>\n",
       "      <td>2004-10-27</td>\n",
       "      <td>2004</td>\n",
       "      <td>10</td>\n",
       "      <td>1940</td>\n",
       "      <td>His Girl Friday</td>\n",
       "    </tr>\n",
       "    <tr>\n",
       "      <th>9988</th>\n",
       "      <td>1342407</td>\n",
       "      <td>13378</td>\n",
       "      <td>4.0</td>\n",
       "      <td>2004-12-19</td>\n",
       "      <td>2004</td>\n",
       "      <td>12</td>\n",
       "      <td>1940</td>\n",
       "      <td>His Girl Friday</td>\n",
       "    </tr>\n",
       "  </tbody>\n",
       "</table>\n",
       "<p>39967 rows × 8 columns</p>\n",
       "</div>"
      ],
      "text/plain": [
       "      Cust_ID  Movie_ID  Rating       Date  year  month  YearOfRelease  \\\n",
       "0     1488844         1     3.0 2005-09-06  2005      9           2003   \n",
       "1      822109         1     5.0 2005-05-13  2005      5           2003   \n",
       "2      885013         1     4.0 2005-10-19  2005     10           2003   \n",
       "3       30878         1     4.0 2005-12-26  2005     12           2003   \n",
       "4      823519         1     3.0 2004-05-03  2004      5           2003   \n",
       "...       ...       ...     ...        ...   ...    ...            ...   \n",
       "9984   628670     13378     3.0 2004-09-26  2004      9           1940   \n",
       "9985   699305     13378     5.0 2004-10-04  2004     10           1940   \n",
       "9986  2468329     13378     2.0 2004-10-20  2004     10           1940   \n",
       "9987  1762173     13378     4.0 2004-10-27  2004     10           1940   \n",
       "9988  1342407     13378     4.0 2004-12-19  2004     12           1940   \n",
       "\n",
       "                Movie  \n",
       "0     Dinosaur Planet  \n",
       "1     Dinosaur Planet  \n",
       "2     Dinosaur Planet  \n",
       "3     Dinosaur Planet  \n",
       "4     Dinosaur Planet  \n",
       "...               ...  \n",
       "9984  His Girl Friday  \n",
       "9985  His Girl Friday  \n",
       "9986  His Girl Friday  \n",
       "9987  His Girl Friday  \n",
       "9988  His Girl Friday  \n",
       "\n",
       "[39967 rows x 8 columns]"
      ]
     },
     "execution_count": 22,
     "metadata": {},
     "output_type": "execute_result"
    }
   ],
   "source": [
    "# Combine all dataframes\n",
    "df_final = df_ratings.join(df_movies.set_index('Movie_ID'),on=\"Movie_ID\")\n",
    "df_final"
   ]
  },
  {
   "cell_type": "code",
   "execution_count": 23,
   "metadata": {},
   "outputs": [],
   "source": [
    "df_final.to_csv (r'./data/Netflix_prize_data/df_final.csv', index = False, header=True)"
   ]
  },
  {
   "cell_type": "code",
   "execution_count": 24,
   "metadata": {},
   "outputs": [],
   "source": [
    "#df_final.index = np.arange(0,len(df_final))\n",
    "#df_final.head(10)"
   ]
  },
  {
   "cell_type": "markdown",
   "metadata": {},
   "source": [
    "# Exploring Data"
   ]
  },
  {
   "cell_type": "markdown",
   "metadata": {},
   "source": [
    "## Basic statistic"
   ]
  },
  {
   "cell_type": "code",
   "execution_count": 25,
   "metadata": {},
   "outputs": [
    {
     "name": "stdout",
     "output_type": "stream",
     "text": [
      "There are 32800 unique users and 33 unique movies in this data set\n"
     ]
    }
   ],
   "source": [
    "rating_data=str(df_ratings.shape[0])\n",
    "num_users=str(len(np.unique(df_ratings[\"Cust_ID\"])))\n",
    "num_mov = str(len(np.unique(df_ratings[\"Movie_ID\"])))\n",
    "print('There are {} unique users and {} unique movies in this data set'.format(num_users, num_mov))"
   ]
  },
  {
   "cell_type": "code",
   "execution_count": 26,
   "metadata": {},
   "outputs": [
    {
     "name": "stdout",
     "output_type": "stream",
     "text": [
      "Ratings per year\n"
     ]
    },
    {
     "data": {
      "text/plain": [
       "year\n",
       "1999        1\n",
       "2000      344\n",
       "2001      767\n",
       "2002     1599\n",
       "2003     3806\n",
       "2004    10123\n",
       "2005    23327\n",
       "Name: Rating, dtype: int64"
      ]
     },
     "execution_count": 26,
     "metadata": {},
     "output_type": "execute_result"
    }
   ],
   "source": [
    "print (\"Ratings per year\")\n",
    "# Calculate the ratings per year\n",
    "rating_per_year = df_final.groupby (by = 'year')[\"Rating\"].count().sort_values(ascending = True)\n",
    "#rating_per_year = df_ratings.groupby (by = 'year')[\"Rating\"].count().sort_values(ascending = True)\n",
    "rating_per_year"
   ]
  },
  {
   "cell_type": "code",
   "execution_count": 27,
   "metadata": {
    "scrolled": true
   },
   "outputs": [
    {
     "data": {
      "text/plain": [
       "year\n",
       "1999    3.000000\n",
       "2000    3.093023\n",
       "2001    3.410691\n",
       "2002    3.108818\n",
       "2003    3.387546\n",
       "2004    3.582436\n",
       "2005    3.592918\n",
       "Name: Rating, dtype: float64"
      ]
     },
     "execution_count": 27,
     "metadata": {},
     "output_type": "execute_result"
    }
   ],
   "source": [
    "# Calculate the avarage rating per year\n",
    "avg_rating_per_year= df_ratings.groupby (by= 'year')['Rating'].mean()\n",
    "avg_rating_per_year"
   ]
  },
  {
   "cell_type": "code",
   "execution_count": 28,
   "metadata": {},
   "outputs": [
    {
     "data": {
      "text/html": [
       "<div>\n",
       "<style scoped>\n",
       "    .dataframe tbody tr th:only-of-type {\n",
       "        vertical-align: middle;\n",
       "    }\n",
       "\n",
       "    .dataframe tbody tr th {\n",
       "        vertical-align: top;\n",
       "    }\n",
       "\n",
       "    .dataframe thead th {\n",
       "        text-align: right;\n",
       "    }\n",
       "</style>\n",
       "<table border=\"1\" class=\"dataframe\">\n",
       "  <thead>\n",
       "    <tr style=\"text-align: right;\">\n",
       "      <th></th>\n",
       "      <th>Movie_ID</th>\n",
       "      <th>YearOfRelease</th>\n",
       "      <th>Movie</th>\n",
       "    </tr>\n",
       "  </thead>\n",
       "  <tbody>\n",
       "    <tr>\n",
       "      <th>0</th>\n",
       "      <td>1</td>\n",
       "      <td>2003</td>\n",
       "      <td>Dinosaur Planet</td>\n",
       "    </tr>\n",
       "    <tr>\n",
       "      <th>1</th>\n",
       "      <td>2</td>\n",
       "      <td>2004</td>\n",
       "      <td>Isle of Man TT 2004 Review</td>\n",
       "    </tr>\n",
       "    <tr>\n",
       "      <th>2</th>\n",
       "      <td>3</td>\n",
       "      <td>1997</td>\n",
       "      <td>Character</td>\n",
       "    </tr>\n",
       "    <tr>\n",
       "      <th>3</th>\n",
       "      <td>4</td>\n",
       "      <td>1994</td>\n",
       "      <td>Paula Abdul's Get Up &amp; Dance</td>\n",
       "    </tr>\n",
       "    <tr>\n",
       "      <th>4</th>\n",
       "      <td>5</td>\n",
       "      <td>2004</td>\n",
       "      <td>The Rise and Fall of ECW</td>\n",
       "    </tr>\n",
       "  </tbody>\n",
       "</table>\n",
       "</div>"
      ],
      "text/plain": [
       "   Movie_ID  YearOfRelease                         Movie\n",
       "0         1           2003               Dinosaur Planet\n",
       "1         2           2004    Isle of Man TT 2004 Review\n",
       "2         3           1997                     Character\n",
       "3         4           1994  Paula Abdul's Get Up & Dance\n",
       "4         5           2004      The Rise and Fall of ECW"
      ]
     },
     "execution_count": 28,
     "metadata": {},
     "output_type": "execute_result"
    }
   ],
   "source": [
    "df_movies.head()"
   ]
  },
  {
   "cell_type": "code",
   "execution_count": 29,
   "metadata": {
    "scrolled": false
   },
   "outputs": [
    {
     "name": "stdout",
     "output_type": "stream",
     "text": [
      "Rated movies per year\n"
     ]
    },
    {
     "data": {
      "text/plain": [
       "YearOfRelease\n",
       "1933    1\n",
       "1995    1\n",
       "1989    1\n",
       "1988    1\n",
       "1985    1\n",
       "1992    1\n",
       "1961    1\n",
       "1945    1\n",
       "1940    1\n",
       "1981    1\n",
       "1963    2\n",
       "1994    2\n",
       "1996    2\n",
       "1999    2\n",
       "2001    2\n",
       "2003    3\n",
       "1997    3\n",
       "2004    3\n",
       "2002    4\n",
       "Name: Movie_ID, dtype: int64"
      ]
     },
     "execution_count": 29,
     "metadata": {},
     "output_type": "execute_result"
    }
   ],
   "source": [
    "print (\"Rated movies per year\")\n",
    "# Calculate the rated movies per year\n",
    "movie_rated_per_year = df_final.groupby(by='YearOfRelease')['Movie_ID'].nunique().sort_values()\n",
    "movie_rated_per_year"
   ]
  },
  {
   "cell_type": "code",
   "execution_count": 30,
   "metadata": {
    "scrolled": false
   },
   "outputs": [
    {
     "data": {
      "text/plain": [
       "Date\n",
       "1999-12-31    1\n",
       "2002-03-30    1\n",
       "2001-01-18    1\n",
       "2001-01-17    1\n",
       "2001-01-15    1\n",
       "Name: Movie, dtype: int64"
      ]
     },
     "execution_count": 30,
     "metadata": {},
     "output_type": "execute_result"
    }
   ],
   "source": [
    "movie_rated_per_month = df_final.groupby(by='Date')['Movie'].count().sort_values()\n",
    "movie_rated_per_month.head()"
   ]
  },
  {
   "cell_type": "code",
   "execution_count": 31,
   "metadata": {},
   "outputs": [],
   "source": [
    "# for showing the data in Millions\n",
    "def changingLabels(number):\n",
    "    return str(number/10**6) + \"M\""
   ]
  },
  {
   "cell_type": "markdown",
   "metadata": {},
   "source": [
    "## Distribution of ratings"
   ]
  },
  {
   "cell_type": "code",
   "execution_count": 32,
   "metadata": {
    "scrolled": false
   },
   "outputs": [
    {
     "name": "stderr",
     "output_type": "stream",
     "text": [
      "<ipython-input-32-19c5e15c4289>:7: UserWarning: FixedFormatter should only be used together with FixedLocator\n",
      "  ax.set_yticklabels([changingLabels(num) for num in ax.get_yticks()])\n"
     ]
    },
    {
     "data": {
      "image/png": "[encoded data removed]",
      "text/plain": [
       "<Figure size 576x360 with 1 Axes>"
      ]
     },
     "metadata": {
      "needs_background": "light"
     },
     "output_type": "display_data"
    }
   ],
   "source": [
    "# Check the distribution of the ratings \n",
    "plt.figure(figsize = (8, 5))\n",
    "#sns.set_palette(\"mako\")\n",
    "ax = sns.countplot(x=\"Rating\", data=df_final,color='grey',  edgecolor='black')\n",
    "\n",
    "# for showing the data in Millions\n",
    "ax.set_yticklabels([changingLabels(num) for num in ax.get_yticks()])\n",
    "\n",
    "plt.tick_params(labelsize = 15)\n",
    "plt.title(\"Distribution of Ratings\", fontsize = 20, pad =20)\n",
    "plt.xlabel(\"Rating score\", fontsize = 20, labelpad = 20)\n",
    "plt.ylabel(\"Number of ratings\", fontsize = 20, labelpad = 20)\n",
    "plt.show()"
   ]
  },
  {
   "cell_type": "code",
   "execution_count": 33,
   "metadata": {},
   "outputs": [],
   "source": [
    "df_final[\"Date\"] = pd.to_datetime(df_final[\"Date\"])"
   ]
  },
  {
   "cell_type": "markdown",
   "metadata": {},
   "source": [
    "# Analysis of Ratings given by user"
   ]
  },
  {
   "cell_type": "code",
   "execution_count": 34,
   "metadata": {},
   "outputs": [
    {
     "data": {
      "text/html": [
       "<div>\n",
       "<style scoped>\n",
       "    .dataframe tbody tr th:only-of-type {\n",
       "        vertical-align: middle;\n",
       "    }\n",
       "\n",
       "    .dataframe tbody tr th {\n",
       "        vertical-align: top;\n",
       "    }\n",
       "\n",
       "    .dataframe thead th {\n",
       "        text-align: right;\n",
       "    }\n",
       "</style>\n",
       "<table border=\"1\" class=\"dataframe\">\n",
       "  <thead>\n",
       "    <tr style=\"text-align: right;\">\n",
       "      <th></th>\n",
       "      <th>Cust_ID</th>\n",
       "      <th>Movie_ID</th>\n",
       "      <th>Rating</th>\n",
       "      <th>Date</th>\n",
       "      <th>year</th>\n",
       "      <th>month</th>\n",
       "      <th>YearOfRelease</th>\n",
       "      <th>Movie</th>\n",
       "    </tr>\n",
       "  </thead>\n",
       "  <tbody>\n",
       "    <tr>\n",
       "      <th>0</th>\n",
       "      <td>1488844</td>\n",
       "      <td>1</td>\n",
       "      <td>3.0</td>\n",
       "      <td>2005-09-06</td>\n",
       "      <td>2005</td>\n",
       "      <td>9</td>\n",
       "      <td>2003</td>\n",
       "      <td>Dinosaur Planet</td>\n",
       "    </tr>\n",
       "    <tr>\n",
       "      <th>1</th>\n",
       "      <td>822109</td>\n",
       "      <td>1</td>\n",
       "      <td>5.0</td>\n",
       "      <td>2005-05-13</td>\n",
       "      <td>2005</td>\n",
       "      <td>5</td>\n",
       "      <td>2003</td>\n",
       "      <td>Dinosaur Planet</td>\n",
       "    </tr>\n",
       "    <tr>\n",
       "      <th>2</th>\n",
       "      <td>885013</td>\n",
       "      <td>1</td>\n",
       "      <td>4.0</td>\n",
       "      <td>2005-10-19</td>\n",
       "      <td>2005</td>\n",
       "      <td>10</td>\n",
       "      <td>2003</td>\n",
       "      <td>Dinosaur Planet</td>\n",
       "    </tr>\n",
       "    <tr>\n",
       "      <th>3</th>\n",
       "      <td>30878</td>\n",
       "      <td>1</td>\n",
       "      <td>4.0</td>\n",
       "      <td>2005-12-26</td>\n",
       "      <td>2005</td>\n",
       "      <td>12</td>\n",
       "      <td>2003</td>\n",
       "      <td>Dinosaur Planet</td>\n",
       "    </tr>\n",
       "    <tr>\n",
       "      <th>4</th>\n",
       "      <td>823519</td>\n",
       "      <td>1</td>\n",
       "      <td>3.0</td>\n",
       "      <td>2004-05-03</td>\n",
       "      <td>2004</td>\n",
       "      <td>5</td>\n",
       "      <td>2003</td>\n",
       "      <td>Dinosaur Planet</td>\n",
       "    </tr>\n",
       "  </tbody>\n",
       "</table>\n",
       "</div>"
      ],
      "text/plain": [
       "   Cust_ID  Movie_ID  Rating       Date  year  month  YearOfRelease  \\\n",
       "0  1488844         1     3.0 2005-09-06  2005      9           2003   \n",
       "1   822109         1     5.0 2005-05-13  2005      5           2003   \n",
       "2   885013         1     4.0 2005-10-19  2005     10           2003   \n",
       "3    30878         1     4.0 2005-12-26  2005     12           2003   \n",
       "4   823519         1     3.0 2004-05-03  2004      5           2003   \n",
       "\n",
       "             Movie  \n",
       "0  Dinosaur Planet  \n",
       "1  Dinosaur Planet  \n",
       "2  Dinosaur Planet  \n",
       "3  Dinosaur Planet  \n",
       "4  Dinosaur Planet  "
      ]
     },
     "execution_count": 34,
     "metadata": {},
     "output_type": "execute_result"
    }
   ],
   "source": [
    "df_final.head()"
   ]
  },
  {
   "cell_type": "code",
   "execution_count": 35,
   "metadata": {
    "scrolled": false
   },
   "outputs": [
    {
     "name": "stdout",
     "output_type": "stream",
     "text": [
      "Ratings per user\n"
     ]
    },
    {
     "data": {
      "text/plain": [
       "Cust_ID\n",
       "2439493    31\n",
       "305344     29\n",
       "387418     29\n",
       "1664010    27\n",
       "2118461    26\n",
       "Name: Movie_ID, dtype: int64"
      ]
     },
     "execution_count": 35,
     "metadata": {},
     "output_type": "execute_result"
    }
   ],
   "source": [
    "print(\"Ratings per user\")\n",
    "# Get the ratings given by user\n",
    "cnt_rating_per_user = df_final.groupby(by = \"Cust_ID\")[\"Movie_ID\"].count().sort_values(ascending = False)\n",
    "cnt_rating_per_user.head()"
   ]
  },
  {
   "cell_type": "code",
   "execution_count": 36,
   "metadata": {},
   "outputs": [
    {
     "data": {
      "text/plain": [
       "count    32800.000000\n",
       "mean         1.218506\n",
       "std          0.709849\n",
       "min          1.000000\n",
       "25%          1.000000\n",
       "50%          1.000000\n",
       "75%          1.000000\n",
       "max         31.000000\n",
       "Name: Movie_ID, dtype: float64"
      ]
     },
     "execution_count": 36,
     "metadata": {},
     "output_type": "execute_result"
    }
   ],
   "source": [
    "cnt_rating_per_user.describe()"
   ]
  },
  {
   "cell_type": "code",
   "execution_count": 37,
   "metadata": {
    "scrolled": false
   },
   "outputs": [
    {
     "name": "stdout",
     "output_type": "stream",
     "text": [
      "Users with highest number of ratings\n"
     ]
    },
    {
     "data": {
      "text/plain": [
       "Cust_ID\n",
       "2439493    31\n",
       "305344     29\n",
       "387418     29\n",
       "1664010    27\n",
       "2118461    26\n",
       "1639792    18\n",
       "1461435    16\n",
       "1932594    15\n",
       "727242     15\n",
       "2606799    14\n",
       "1314869    13\n",
       "1784150    11\n",
       "2147527    11\n",
       "798296     11\n",
       "1001129    10\n",
       "525356     10\n",
       "636262     10\n",
       "1403217    10\n",
       "491531     10\n",
       "1792741    10\n",
       "Name: Movie_ID, dtype: int64"
      ]
     },
     "execution_count": 37,
     "metadata": {},
     "output_type": "execute_result"
    }
   ],
   "source": [
    "print(\"Users with highest number of ratings\")\n",
    "cnt_rating_per_user_20 = cnt_rating_per_user[:20]\n",
    "cnt_rating_per_user_20"
   ]
  },
  {
   "cell_type": "code",
   "execution_count": 38,
   "metadata": {},
   "outputs": [
    {
     "name": "stdout",
     "output_type": "stream",
     "text": [
      "Users with lowest number of ratings\n"
     ]
    },
    {
     "data": {
      "text/plain": [
       "Cust_ID\n",
       "1860023    1\n",
       "1859762    1\n",
       "185973     1\n",
       "1859418    1\n",
       "1859319    1\n",
       "1859288    1\n",
       "1859215    1\n",
       "1859064    1\n",
       "1859041    1\n",
       "1858964    1\n",
       "1858927    1\n",
       "1858921    1\n",
       "1858847    1\n",
       "1858770    1\n",
       "1858626    1\n",
       "1858601    1\n",
       "1858464    1\n",
       "1858421    1\n",
       "1858316    1\n",
       "999901     1\n",
       "Name: Movie_ID, dtype: int64"
      ]
     },
     "execution_count": 38,
     "metadata": {},
     "output_type": "execute_result"
    }
   ],
   "source": [
    "print(\"Users with lowest number of ratings\")\n",
    "cnt_rating_per_user_last_20 = cnt_rating_per_user[-20:]\n",
    "cnt_rating_per_user_last_20"
   ]
  },
  {
   "cell_type": "code",
   "execution_count": 39,
   "metadata": {},
   "outputs": [],
   "source": [
    "sns.set_palette(\"mako\")"
   ]
  },
  {
   "cell_type": "code",
   "execution_count": 70,
   "metadata": {},
   "outputs": [
    {
     "data": {
      "image/png": "[encoded data removed]",
      "text/plain": [
       "<Figure size 1296x360 with 2 Axes>"
      ]
     },
     "metadata": {
      "needs_background": "light"
     },
     "output_type": "display_data"
    }
   ],
   "source": [
    "# Make subplots that are next to each other\n",
    "fig, (ax1, ax2) = plt.subplots(nrows=1, ncols=2, figsize=(18, 5))\n",
    "\n",
    "sns.set_palette(\"mako\")\n",
    "\n",
    "# plot rating frequency of all movies\n",
    "cnt_rating_per_user.reset_index(drop=True).plot(ax=ax1); # reset_index(drop=True)\n",
    "\n",
    "# Add title and labels\n",
    "ax1.set_title(\"Rating Frequency the Users\",fontsize = 20,pad =20); #distance between title \n",
    "ax1.set_xlabel(\"Users (sorted by number of Ratings)\",fontsize = 20, labelpad=20)\n",
    "ax1.set_ylabel(\"Number of Ratings\",fontsize = 20)\n",
    "#ax1.set_yticklabels([changingLabels(num) for num in ax.get_yticks()])\n",
    "\n",
    "# plot rating frequency of all movies in log scale\n",
    "cnt_rating_per_user.reset_index(drop=True).plot(logy = True, ax=ax2);\n",
    "\n",
    "# Add title and labels \n",
    "ax2.set_title(\"Rating Frequency of the Users(log scaled)\",fontsize = 20, pad =20);\n",
    "ax2.set_xlabel(\"Users (sorted by number of Ratings)\",fontsize = 20, labelpad=15) #fontdict=dict(weight='bold')\n",
    "ax2.set_ylabel(\"Number of Ratings\",fontsize = 20)\n",
    "\n",
    "fig.subplots_adjust(wspace=0.3) #the amount of width reserved for space between subplots,\n",
    "# Remove empty white space around the plot\n",
    "\n",
    "# change the fontsize of minor ticks label \n",
    "ax1.tick_params(axis='both', which='major', labelsize=15)\n",
    "ax1.tick_params(axis='both', which='minor', labelsize=15)\n",
    "ax2.tick_params(axis='both', which='major', labelsize=15)\n",
    "ax2.tick_params(axis='both', which='minor', labelsize=15)\n",
    "\n",
    "plt.show()\n"
   ]
  },
  {
   "cell_type": "code",
   "execution_count": 41,
   "metadata": {
    "scrolled": false
   },
   "outputs": [
    {
     "data": {
      "image/png": "[encoded data removed]",
      "text/plain": [
       "<Figure size 1008x504 with 2 Axes>"
      ]
     },
     "metadata": {
      "needs_background": "light"
     },
     "output_type": "display_data"
    }
   ],
   "source": [
    "fig, axes = plt.subplots(nrows = 1, ncols = 2, figsize=(14,7))\n",
    "\n",
    "# Generate the probability density function (PDF)\n",
    "sns.kdeplot(cnt_rating_per_user.values, shade = True, ax = axes[0])\n",
    "axes[0].set_title(\"PDF\", fontsize = 18)\n",
    "axes[0].set_xlabel(\"Number of Ratings per user\", fontsize = 18)\n",
    "axes[0].tick_params(labelsize = 15)\n",
    "\n",
    "# Generate the cumulative distribution (CDF)\n",
    "sns.kdeplot(cnt_rating_per_user.values, shade = True, cumulative = True, ax = axes[1])\n",
    "axes[1].set_title(\"CDF\", fontsize = 18)\n",
    "axes[1].set_xlabel(\"Number of Ratings per user\", fontsize = 18)\n",
    "axes[1].tick_params(labelsize = 15)\n",
    "\n",
    "fig.subplots_adjust(wspace=2)\n",
    "plt.tight_layout()\n",
    "plt.show()\n"
   ]
  },
  {
   "cell_type": "markdown",
   "metadata": {},
   "source": [
    "* Above PDF graph shows that almost all of the users give very few ratings. There are very few users who's ratings count is high.\n",
    "* Similarly, above CDF graph shows that almost 99% of users give very few ratings."
   ]
  },
  {
   "cell_type": "code",
   "execution_count": 42,
   "metadata": {
    "scrolled": false
   },
   "outputs": [
    {
     "data": {
      "text/html": [
       "<div>\n",
       "<style scoped>\n",
       "    .dataframe tbody tr th:only-of-type {\n",
       "        vertical-align: middle;\n",
       "    }\n",
       "\n",
       "    .dataframe tbody tr th {\n",
       "        vertical-align: top;\n",
       "    }\n",
       "\n",
       "    .dataframe thead th {\n",
       "        text-align: right;\n",
       "    }\n",
       "</style>\n",
       "<table border=\"1\" class=\"dataframe\">\n",
       "  <thead>\n",
       "    <tr style=\"text-align: right;\">\n",
       "      <th></th>\n",
       "      <th>Cust_ID</th>\n",
       "      <th>Movie_ID</th>\n",
       "      <th>Rating</th>\n",
       "      <th>Date</th>\n",
       "      <th>year</th>\n",
       "      <th>month</th>\n",
       "      <th>YearOfRelease</th>\n",
       "      <th>Movie</th>\n",
       "    </tr>\n",
       "  </thead>\n",
       "  <tbody>\n",
       "    <tr>\n",
       "      <th>0</th>\n",
       "      <td>1488844</td>\n",
       "      <td>1</td>\n",
       "      <td>3.0</td>\n",
       "      <td>2005-09-06</td>\n",
       "      <td>2005</td>\n",
       "      <td>9</td>\n",
       "      <td>2003</td>\n",
       "      <td>Dinosaur Planet</td>\n",
       "    </tr>\n",
       "    <tr>\n",
       "      <th>1</th>\n",
       "      <td>822109</td>\n",
       "      <td>1</td>\n",
       "      <td>5.0</td>\n",
       "      <td>2005-05-13</td>\n",
       "      <td>2005</td>\n",
       "      <td>5</td>\n",
       "      <td>2003</td>\n",
       "      <td>Dinosaur Planet</td>\n",
       "    </tr>\n",
       "    <tr>\n",
       "      <th>2</th>\n",
       "      <td>885013</td>\n",
       "      <td>1</td>\n",
       "      <td>4.0</td>\n",
       "      <td>2005-10-19</td>\n",
       "      <td>2005</td>\n",
       "      <td>10</td>\n",
       "      <td>2003</td>\n",
       "      <td>Dinosaur Planet</td>\n",
       "    </tr>\n",
       "    <tr>\n",
       "      <th>3</th>\n",
       "      <td>30878</td>\n",
       "      <td>1</td>\n",
       "      <td>4.0</td>\n",
       "      <td>2005-12-26</td>\n",
       "      <td>2005</td>\n",
       "      <td>12</td>\n",
       "      <td>2003</td>\n",
       "      <td>Dinosaur Planet</td>\n",
       "    </tr>\n",
       "    <tr>\n",
       "      <th>4</th>\n",
       "      <td>823519</td>\n",
       "      <td>1</td>\n",
       "      <td>3.0</td>\n",
       "      <td>2004-05-03</td>\n",
       "      <td>2004</td>\n",
       "      <td>5</td>\n",
       "      <td>2003</td>\n",
       "      <td>Dinosaur Planet</td>\n",
       "    </tr>\n",
       "  </tbody>\n",
       "</table>\n",
       "</div>"
      ],
      "text/plain": [
       "   Cust_ID  Movie_ID  Rating       Date  year  month  YearOfRelease  \\\n",
       "0  1488844         1     3.0 2005-09-06  2005      9           2003   \n",
       "1   822109         1     5.0 2005-05-13  2005      5           2003   \n",
       "2   885013         1     4.0 2005-10-19  2005     10           2003   \n",
       "3    30878         1     4.0 2005-12-26  2005     12           2003   \n",
       "4   823519         1     3.0 2004-05-03  2004      5           2003   \n",
       "\n",
       "             Movie  \n",
       "0  Dinosaur Planet  \n",
       "1  Dinosaur Planet  \n",
       "2  Dinosaur Planet  \n",
       "3  Dinosaur Planet  \n",
       "4  Dinosaur Planet  "
      ]
     },
     "execution_count": 42,
     "metadata": {},
     "output_type": "execute_result"
    }
   ],
   "source": [
    "df_final.head()"
   ]
  },
  {
   "cell_type": "code",
   "execution_count": 43,
   "metadata": {},
   "outputs": [],
   "source": [
    "cnt_user_ratings_per_year = df_final.groupby(by = \"year\")[\"Rating\"].count().sort_values(ascending = False)"
   ]
  },
  {
   "cell_type": "code",
   "execution_count": 44,
   "metadata": {
    "scrolled": false
   },
   "outputs": [
    {
     "name": "stdout",
     "output_type": "stream",
     "text": [
      "User ratings per year:\n"
     ]
    },
    {
     "data": {
      "text/plain": [
       "year\n",
       "2005    23327\n",
       "2004    10123\n",
       "2003     3806\n",
       "2002     1599\n",
       "2001      767\n",
       "2000      344\n",
       "1999        1\n",
       "Name: Rating, dtype: int64"
      ]
     },
     "execution_count": 44,
     "metadata": {},
     "output_type": "execute_result"
    }
   ],
   "source": [
    "print(\"User ratings per year:\")\n",
    "cnt_user_ratings_per_year"
   ]
  },
  {
   "cell_type": "code",
   "execution_count": 45,
   "metadata": {},
   "outputs": [
    {
     "data": {
      "text/plain": [
       "count        7.000000\n",
       "mean      5709.571429\n",
       "std       8526.221122\n",
       "min          1.000000\n",
       "25%        555.500000\n",
       "50%       1599.000000\n",
       "75%       6964.500000\n",
       "max      23327.000000\n",
       "Name: Rating, dtype: float64"
      ]
     },
     "execution_count": 45,
     "metadata": {},
     "output_type": "execute_result"
    }
   ],
   "source": [
    "cnt_user_ratings_per_year.describe()"
   ]
  },
  {
   "cell_type": "code",
   "execution_count": 46,
   "metadata": {
    "scrolled": false
   },
   "outputs": [
    {
     "name": "stderr",
     "output_type": "stream",
     "text": [
      "<ipython-input-46-6f7dcc70d416>:6: UserWarning: FixedFormatter should only be used together with FixedLocator\n",
      "  ax.set_yticklabels([changingLabels(num) for num in ax.get_yticks()])\n"
     ]
    },
    {
     "data": {
      "text/plain": [
       "[Text(0, -5000.0, '-0.005M'),\n",
       " Text(0, 0.0, '0.0M'),\n",
       " Text(0, 5000.0, '0.005M'),\n",
       " Text(0, 10000.0, '0.01M'),\n",
       " Text(0, 15000.0, '0.015M'),\n",
       " Text(0, 20000.0, '0.02M'),\n",
       " Text(0, 25000.0, '0.025M')]"
      ]
     },
     "execution_count": 46,
     "metadata": {},
     "output_type": "execute_result"
    },
    {
     "data": {
      "image/png": "[encoded data removed]",
      "text/plain": [
       "<Figure size 576x360 with 1 Axes>"
      ]
     },
     "metadata": {
      "needs_background": "light"
     },
     "output_type": "display_data"
    }
   ],
   "source": [
    "plt.figure(figsize = (8,5))\n",
    "ax=cnt_user_ratings_per_year.plot()\n",
    "ax.set_title(\"User Ratings per Year\",fontsize = 20,pad =20)\n",
    "ax.set_xlabel(\"Year\",fontsize = 18, labelpad=15)\n",
    "ax.set_ylabel(\"User Ratings\",fontsize = 18, labelpad=15)\n",
    "ax.set_yticklabels([changingLabels(num) for num in ax.get_yticks()])"
   ]
  },
  {
   "cell_type": "code",
   "execution_count": 47,
   "metadata": {},
   "outputs": [
    {
     "name": "stderr",
     "output_type": "stream",
     "text": [
      "<ipython-input-47-e58f6fa2299f>:6: UserWarning: FixedFormatter should only be used together with FixedLocator\n",
      "  ax.set_yticklabels([changingLabels(num) for num in ax.get_yticks()])\n"
     ]
    },
    {
     "data": {
      "image/png": "[encoded data removed]",
      "text/plain": [
       "<Figure size 720x576 with 1 Axes>"
      ]
     },
     "metadata": {
      "needs_background": "light"
     },
     "output_type": "display_data"
    }
   ],
   "source": [
    "plt.figure(figsize = (10,8))\n",
    "ax = df_final.groupby(by = \"Date\")[\"Rating\"].count().plot()\n",
    "ax.set_title(\"User Ratings per day\", fontsize = 20, pad =20)\n",
    "ax.set_xlabel(\"Date\", fontsize = 20,labelpad=20)\n",
    "ax.set_ylabel(\"User Ratings per day\", fontsize = 20,labelpad=20)\n",
    "ax.set_yticklabels([changingLabels(num) for num in ax.get_yticks()])\n",
    "plt.tick_params(labelsize = 15)\n",
    "ax.xaxis.set_major_formatter(mdates.DateFormatter (\"%Y-%m\"))\n",
    "ax.xaxis.set_minor_formatter(mdates.DateFormatter (\"%Y-%m\"))\n",
    "_=plt.xticks(rotation=45)\n",
    "plt.show()"
   ]
  },
  {
   "cell_type": "code",
   "execution_count": 48,
   "metadata": {
    "scrolled": false
   },
   "outputs": [
    {
     "name": "stdout",
     "output_type": "stream",
     "text": [
      "Avarage User rating per year\n"
     ]
    },
    {
     "data": {
      "text/plain": [
       "year\n",
       "2005    3.592918\n",
       "2004    3.582436\n",
       "2001    3.410691\n",
       "2003    3.387546\n",
       "2002    3.108818\n",
       "2000    3.093023\n",
       "1999    3.000000\n",
       "Name: Rating, dtype: float64"
      ]
     },
     "execution_count": 48,
     "metadata": {},
     "output_type": "execute_result"
    }
   ],
   "source": [
    "print (\"Avarage User rating per year\")\n",
    "cnt_user_ratings_per_year = df_final.groupby(by = \"year\")[\"Rating\"].mean().sort_values(ascending = False)\n",
    "cnt_user_ratings_per_year"
   ]
  },
  {
   "cell_type": "code",
   "execution_count": 49,
   "metadata": {},
   "outputs": [
    {
     "data": {
      "text/plain": [
       "count    7.000000\n",
       "mean     3.310776\n",
       "std      0.242921\n",
       "min      3.000000\n",
       "25%      3.100921\n",
       "50%      3.387546\n",
       "75%      3.496564\n",
       "max      3.592918\n",
       "Name: Rating, dtype: float64"
      ]
     },
     "execution_count": 49,
     "metadata": {},
     "output_type": "execute_result"
    }
   ],
   "source": [
    "cnt_user_ratings_per_year.describe()"
   ]
  },
  {
   "cell_type": "code",
   "execution_count": 50,
   "metadata": {},
   "outputs": [
    {
     "data": {
      "text/html": [
       "<div>\n",
       "<style scoped>\n",
       "    .dataframe tbody tr th:only-of-type {\n",
       "        vertical-align: middle;\n",
       "    }\n",
       "\n",
       "    .dataframe tbody tr th {\n",
       "        vertical-align: top;\n",
       "    }\n",
       "\n",
       "    .dataframe thead th {\n",
       "        text-align: right;\n",
       "    }\n",
       "</style>\n",
       "<table border=\"1\" class=\"dataframe\">\n",
       "  <thead>\n",
       "    <tr style=\"text-align: right;\">\n",
       "      <th></th>\n",
       "      <th>Cust_ID</th>\n",
       "      <th>Movie_ID</th>\n",
       "      <th>Rating</th>\n",
       "      <th>Date</th>\n",
       "      <th>year</th>\n",
       "      <th>month</th>\n",
       "      <th>YearOfRelease</th>\n",
       "      <th>Movie</th>\n",
       "    </tr>\n",
       "  </thead>\n",
       "  <tbody>\n",
       "    <tr>\n",
       "      <th>0</th>\n",
       "      <td>1488844</td>\n",
       "      <td>1</td>\n",
       "      <td>3.0</td>\n",
       "      <td>2005-09-06</td>\n",
       "      <td>2005</td>\n",
       "      <td>9</td>\n",
       "      <td>2003</td>\n",
       "      <td>Dinosaur Planet</td>\n",
       "    </tr>\n",
       "    <tr>\n",
       "      <th>1</th>\n",
       "      <td>822109</td>\n",
       "      <td>1</td>\n",
       "      <td>5.0</td>\n",
       "      <td>2005-05-13</td>\n",
       "      <td>2005</td>\n",
       "      <td>5</td>\n",
       "      <td>2003</td>\n",
       "      <td>Dinosaur Planet</td>\n",
       "    </tr>\n",
       "    <tr>\n",
       "      <th>2</th>\n",
       "      <td>885013</td>\n",
       "      <td>1</td>\n",
       "      <td>4.0</td>\n",
       "      <td>2005-10-19</td>\n",
       "      <td>2005</td>\n",
       "      <td>10</td>\n",
       "      <td>2003</td>\n",
       "      <td>Dinosaur Planet</td>\n",
       "    </tr>\n",
       "    <tr>\n",
       "      <th>3</th>\n",
       "      <td>30878</td>\n",
       "      <td>1</td>\n",
       "      <td>4.0</td>\n",
       "      <td>2005-12-26</td>\n",
       "      <td>2005</td>\n",
       "      <td>12</td>\n",
       "      <td>2003</td>\n",
       "      <td>Dinosaur Planet</td>\n",
       "    </tr>\n",
       "    <tr>\n",
       "      <th>4</th>\n",
       "      <td>823519</td>\n",
       "      <td>1</td>\n",
       "      <td>3.0</td>\n",
       "      <td>2004-05-03</td>\n",
       "      <td>2004</td>\n",
       "      <td>5</td>\n",
       "      <td>2003</td>\n",
       "      <td>Dinosaur Planet</td>\n",
       "    </tr>\n",
       "  </tbody>\n",
       "</table>\n",
       "</div>"
      ],
      "text/plain": [
       "   Cust_ID  Movie_ID  Rating       Date  year  month  YearOfRelease  \\\n",
       "0  1488844         1     3.0 2005-09-06  2005      9           2003   \n",
       "1   822109         1     5.0 2005-05-13  2005      5           2003   \n",
       "2   885013         1     4.0 2005-10-19  2005     10           2003   \n",
       "3    30878         1     4.0 2005-12-26  2005     12           2003   \n",
       "4   823519         1     3.0 2004-05-03  2004      5           2003   \n",
       "\n",
       "             Movie  \n",
       "0  Dinosaur Planet  \n",
       "1  Dinosaur Planet  \n",
       "2  Dinosaur Planet  \n",
       "3  Dinosaur Planet  \n",
       "4  Dinosaur Planet  "
      ]
     },
     "execution_count": 50,
     "metadata": {},
     "output_type": "execute_result"
    }
   ],
   "source": [
    "df_final.head()"
   ]
  },
  {
   "cell_type": "code",
   "execution_count": 51,
   "metadata": {
    "scrolled": true
   },
   "outputs": [
    {
     "name": "stdout",
     "output_type": "stream",
     "text": [
      "Raters per year:\n"
     ]
    },
    {
     "data": {
      "text/plain": [
       "year\n",
       "1999        1\n",
       "2000      322\n",
       "2001      652\n",
       "2002     1445\n",
       "2003     3393\n",
       "2004     9009\n",
       "2005    20444\n",
       "Name: Cust_ID, dtype: int64"
      ]
     },
     "execution_count": 51,
     "metadata": {},
     "output_type": "execute_result"
    }
   ],
   "source": [
    "print(\"Raters per year:\")\n",
    "cnt_raters_per_year = df_final.groupby(by='year')['Cust_ID'].nunique().sort_values()\n",
    "cnt_raters_per_year"
   ]
  },
  {
   "cell_type": "code",
   "execution_count": 52,
   "metadata": {},
   "outputs": [
    {
     "data": {
      "text/plain": [
       "count        7.000000\n",
       "mean      5038.000000\n",
       "std       7478.618099\n",
       "min          1.000000\n",
       "25%        487.000000\n",
       "50%       1445.000000\n",
       "75%       6201.000000\n",
       "max      20444.000000\n",
       "Name: Cust_ID, dtype: float64"
      ]
     },
     "execution_count": 52,
     "metadata": {},
     "output_type": "execute_result"
    }
   ],
   "source": [
    "cnt_raters_per_year.describe()"
   ]
  },
  {
   "cell_type": "markdown",
   "metadata": {},
   "source": [
    "# Analysis of ratings pro Movie"
   ]
  },
  {
   "cell_type": "markdown",
   "metadata": {},
   "source": [
    "## Plot rating frequency of all movies"
   ]
  },
  {
   "cell_type": "code",
   "execution_count": 53,
   "metadata": {
    "scrolled": true
   },
   "outputs": [
    {
     "data": {
      "text/html": [
       "<div>\n",
       "<style scoped>\n",
       "    .dataframe tbody tr th:only-of-type {\n",
       "        vertical-align: middle;\n",
       "    }\n",
       "\n",
       "    .dataframe tbody tr th {\n",
       "        vertical-align: top;\n",
       "    }\n",
       "\n",
       "    .dataframe thead th {\n",
       "        text-align: right;\n",
       "    }\n",
       "</style>\n",
       "<table border=\"1\" class=\"dataframe\">\n",
       "  <thead>\n",
       "    <tr style=\"text-align: right;\">\n",
       "      <th></th>\n",
       "      <th>Movie_ID</th>\n",
       "      <th>YearOfRelease</th>\n",
       "      <th>Movie</th>\n",
       "    </tr>\n",
       "  </thead>\n",
       "  <tbody>\n",
       "    <tr>\n",
       "      <th>0</th>\n",
       "      <td>1</td>\n",
       "      <td>2003</td>\n",
       "      <td>Dinosaur Planet</td>\n",
       "    </tr>\n",
       "    <tr>\n",
       "      <th>1</th>\n",
       "      <td>2</td>\n",
       "      <td>2004</td>\n",
       "      <td>Isle of Man TT 2004 Review</td>\n",
       "    </tr>\n",
       "    <tr>\n",
       "      <th>2</th>\n",
       "      <td>3</td>\n",
       "      <td>1997</td>\n",
       "      <td>Character</td>\n",
       "    </tr>\n",
       "    <tr>\n",
       "      <th>3</th>\n",
       "      <td>4</td>\n",
       "      <td>1994</td>\n",
       "      <td>Paula Abdul's Get Up &amp; Dance</td>\n",
       "    </tr>\n",
       "    <tr>\n",
       "      <th>4</th>\n",
       "      <td>5</td>\n",
       "      <td>2004</td>\n",
       "      <td>The Rise and Fall of ECW</td>\n",
       "    </tr>\n",
       "  </tbody>\n",
       "</table>\n",
       "</div>"
      ],
      "text/plain": [
       "   Movie_ID  YearOfRelease                         Movie\n",
       "0         1           2003               Dinosaur Planet\n",
       "1         2           2004    Isle of Man TT 2004 Review\n",
       "2         3           1997                     Character\n",
       "3         4           1994  Paula Abdul's Get Up & Dance\n",
       "4         5           2004      The Rise and Fall of ECW"
      ]
     },
     "execution_count": 53,
     "metadata": {},
     "output_type": "execute_result"
    }
   ],
   "source": [
    "df_movies.head()"
   ]
  },
  {
   "cell_type": "code",
   "execution_count": 54,
   "metadata": {},
   "outputs": [
    {
     "name": "stdout",
     "output_type": "stream",
     "text": [
      "Released movies per year\n"
     ]
    },
    {
     "data": {
      "text/plain": [
       "YearOfRelease\n",
       "2004    1436\n",
       "2002    1310\n",
       "2003    1271\n",
       "2000    1234\n",
       "2001    1184\n",
       "        ... \n",
       "1923       2\n",
       "1918       2\n",
       "1914       2\n",
       "1909       1\n",
       "1896       1\n",
       "Name: Movie_ID, Length: 95, dtype: int64"
      ]
     },
     "execution_count": 54,
     "metadata": {},
     "output_type": "execute_result"
    }
   ],
   "source": [
    "print(\"Released movies per year\")\n",
    "cnt_movies_rel_year =df_movies.groupby('YearOfRelease')['Movie_ID'].count().sort_values(ascending =False)\n",
    "cnt_movies_rel_year"
   ]
  },
  {
   "cell_type": "code",
   "execution_count": 55,
   "metadata": {
    "scrolled": false
   },
   "outputs": [
    {
     "name": "stdout",
     "output_type": "stream",
     "text": [
      "Ratings per Movie:\n"
     ]
    },
    {
     "data": {
      "text/html": [
       "<div>\n",
       "<style scoped>\n",
       "    .dataframe tbody tr th:only-of-type {\n",
       "        vertical-align: middle;\n",
       "    }\n",
       "\n",
       "    .dataframe tbody tr th {\n",
       "        vertical-align: top;\n",
       "    }\n",
       "\n",
       "    .dataframe thead th {\n",
       "        text-align: right;\n",
       "    }\n",
       "</style>\n",
       "<table border=\"1\" class=\"dataframe\">\n",
       "  <thead>\n",
       "    <tr style=\"text-align: right;\">\n",
       "      <th></th>\n",
       "      <th>Rating</th>\n",
       "    </tr>\n",
       "    <tr>\n",
       "      <th>Movie_ID</th>\n",
       "      <th></th>\n",
       "    </tr>\n",
       "  </thead>\n",
       "  <tbody>\n",
       "    <tr>\n",
       "      <th>1</th>\n",
       "      <td>547</td>\n",
       "    </tr>\n",
       "    <tr>\n",
       "      <th>2</th>\n",
       "      <td>145</td>\n",
       "    </tr>\n",
       "    <tr>\n",
       "      <th>3</th>\n",
       "      <td>2012</td>\n",
       "    </tr>\n",
       "    <tr>\n",
       "      <th>4</th>\n",
       "      <td>142</td>\n",
       "    </tr>\n",
       "    <tr>\n",
       "      <th>5</th>\n",
       "      <td>1140</td>\n",
       "    </tr>\n",
       "  </tbody>\n",
       "</table>\n",
       "</div>"
      ],
      "text/plain": [
       "          Rating\n",
       "Movie_ID        \n",
       "1            547\n",
       "2            145\n",
       "3           2012\n",
       "4            142\n",
       "5           1140"
      ]
     },
     "execution_count": 55,
     "metadata": {},
     "output_type": "execute_result"
    }
   ],
   "source": [
    "print(\"Ratings per Movie:\")\n",
    "# get rating frequency\n",
    "cnt_ratings_per_movie = pd.DataFrame(df_final.groupby('Movie_ID')['Rating'].count()\n",
    "                                     .sort_values(ascending =False))\n",
    "\n",
    "cnt_ratings_per_movie.sort_values(by='Movie_ID').head()"
   ]
  },
  {
   "cell_type": "code",
   "execution_count": 56,
   "metadata": {},
   "outputs": [
    {
     "name": "stdout",
     "output_type": "stream",
     "text": [
      "Movies with highest number of ratings\n"
     ]
    },
    {
     "data": {
      "text/html": [
       "<div>\n",
       "<style scoped>\n",
       "    .dataframe tbody tr th:only-of-type {\n",
       "        vertical-align: middle;\n",
       "    }\n",
       "\n",
       "    .dataframe tbody tr th {\n",
       "        vertical-align: top;\n",
       "    }\n",
       "\n",
       "    .dataframe thead th {\n",
       "        text-align: right;\n",
       "    }\n",
       "</style>\n",
       "<table border=\"1\" class=\"dataframe\">\n",
       "  <thead>\n",
       "    <tr style=\"text-align: right;\">\n",
       "      <th></th>\n",
       "      <th>Rating</th>\n",
       "    </tr>\n",
       "    <tr>\n",
       "      <th>Movie_ID</th>\n",
       "      <th></th>\n",
       "    </tr>\n",
       "  </thead>\n",
       "  <tbody>\n",
       "    <tr>\n",
       "      <th>9217</th>\n",
       "      <td>7439</td>\n",
       "    </tr>\n",
       "    <tr>\n",
       "      <th>4506</th>\n",
       "      <td>6843</td>\n",
       "    </tr>\n",
       "    <tr>\n",
       "      <th>8</th>\n",
       "      <td>4894</td>\n",
       "    </tr>\n",
       "    <tr>\n",
       "      <th>13370</th>\n",
       "      <td>2715</td>\n",
       "    </tr>\n",
       "    <tr>\n",
       "      <th>13378</th>\n",
       "      <td>2662</td>\n",
       "    </tr>\n",
       "    <tr>\n",
       "      <th>3</th>\n",
       "      <td>2012</td>\n",
       "    </tr>\n",
       "    <tr>\n",
       "      <th>4503</th>\n",
       "      <td>1779</td>\n",
       "    </tr>\n",
       "    <tr>\n",
       "      <th>13375</th>\n",
       "      <td>1157</td>\n",
       "    </tr>\n",
       "    <tr>\n",
       "      <th>5</th>\n",
       "      <td>1140</td>\n",
       "    </tr>\n",
       "    <tr>\n",
       "      <th>13377</th>\n",
       "      <td>1048</td>\n",
       "    </tr>\n",
       "    <tr>\n",
       "      <th>6</th>\n",
       "      <td>1019</td>\n",
       "    </tr>\n",
       "    <tr>\n",
       "      <th>13374</th>\n",
       "      <td>854</td>\n",
       "    </tr>\n",
       "    <tr>\n",
       "      <th>9212</th>\n",
       "      <td>841</td>\n",
       "    </tr>\n",
       "    <tr>\n",
       "      <th>4501</th>\n",
       "      <td>595</td>\n",
       "    </tr>\n",
       "    <tr>\n",
       "      <th>1</th>\n",
       "      <td>547</td>\n",
       "    </tr>\n",
       "    <tr>\n",
       "      <th>13368</th>\n",
       "      <td>527</td>\n",
       "    </tr>\n",
       "    <tr>\n",
       "      <th>9211</th>\n",
       "      <td>504</td>\n",
       "    </tr>\n",
       "    <tr>\n",
       "      <th>9215</th>\n",
       "      <td>375</td>\n",
       "    </tr>\n",
       "    <tr>\n",
       "      <th>9214</th>\n",
       "      <td>364</td>\n",
       "    </tr>\n",
       "    <tr>\n",
       "      <th>13372</th>\n",
       "      <td>358</td>\n",
       "    </tr>\n",
       "  </tbody>\n",
       "</table>\n",
       "</div>"
      ],
      "text/plain": [
       "          Rating\n",
       "Movie_ID        \n",
       "9217        7439\n",
       "4506        6843\n",
       "8           4894\n",
       "13370       2715\n",
       "13378       2662\n",
       "3           2012\n",
       "4503        1779\n",
       "13375       1157\n",
       "5           1140\n",
       "13377       1048\n",
       "6           1019\n",
       "13374        854\n",
       "9212         841\n",
       "4501         595\n",
       "1            547\n",
       "13368        527\n",
       "9211         504\n",
       "9215         375\n",
       "9214         364\n",
       "13372        358"
      ]
     },
     "execution_count": 56,
     "metadata": {},
     "output_type": "execute_result"
    }
   ],
   "source": [
    "print(\"Movies with highest number of ratings\")\n",
    "cnt_ratings_per_movie_20 = cnt_ratings_per_movie[:20]\n",
    "cnt_ratings_per_movie_20"
   ]
  },
  {
   "cell_type": "code",
   "execution_count": 57,
   "metadata": {},
   "outputs": [
    {
     "name": "stdout",
     "output_type": "stream",
     "text": [
      "Movies with lowest number of ratings\n"
     ]
    },
    {
     "data": {
      "text/html": [
       "<div>\n",
       "<style scoped>\n",
       "    .dataframe tbody tr th:only-of-type {\n",
       "        vertical-align: middle;\n",
       "    }\n",
       "\n",
       "    .dataframe tbody tr th {\n",
       "        vertical-align: top;\n",
       "    }\n",
       "\n",
       "    .dataframe thead th {\n",
       "        text-align: right;\n",
       "    }\n",
       "</style>\n",
       "<table border=\"1\" class=\"dataframe\">\n",
       "  <thead>\n",
       "    <tr style=\"text-align: right;\">\n",
       "      <th></th>\n",
       "      <th>Rating</th>\n",
       "    </tr>\n",
       "    <tr>\n",
       "      <th>Movie_ID</th>\n",
       "      <th></th>\n",
       "    </tr>\n",
       "  </thead>\n",
       "  <tbody>\n",
       "    <tr>\n",
       "      <th>4501</th>\n",
       "      <td>595</td>\n",
       "    </tr>\n",
       "    <tr>\n",
       "      <th>1</th>\n",
       "      <td>547</td>\n",
       "    </tr>\n",
       "    <tr>\n",
       "      <th>13368</th>\n",
       "      <td>527</td>\n",
       "    </tr>\n",
       "    <tr>\n",
       "      <th>9211</th>\n",
       "      <td>504</td>\n",
       "    </tr>\n",
       "    <tr>\n",
       "      <th>9215</th>\n",
       "      <td>375</td>\n",
       "    </tr>\n",
       "    <tr>\n",
       "      <th>9214</th>\n",
       "      <td>364</td>\n",
       "    </tr>\n",
       "    <tr>\n",
       "      <th>13372</th>\n",
       "      <td>358</td>\n",
       "    </tr>\n",
       "    <tr>\n",
       "      <th>9216</th>\n",
       "      <td>327</td>\n",
       "    </tr>\n",
       "    <tr>\n",
       "      <th>13373</th>\n",
       "      <td>286</td>\n",
       "    </tr>\n",
       "    <tr>\n",
       "      <th>4500</th>\n",
       "      <td>258</td>\n",
       "    </tr>\n",
       "    <tr>\n",
       "      <th>4505</th>\n",
       "      <td>238</td>\n",
       "    </tr>\n",
       "    <tr>\n",
       "      <th>4504</th>\n",
       "      <td>176</td>\n",
       "    </tr>\n",
       "    <tr>\n",
       "      <th>13369</th>\n",
       "      <td>150</td>\n",
       "    </tr>\n",
       "    <tr>\n",
       "      <th>2</th>\n",
       "      <td>145</td>\n",
       "    </tr>\n",
       "    <tr>\n",
       "      <th>9213</th>\n",
       "      <td>143</td>\n",
       "    </tr>\n",
       "    <tr>\n",
       "      <th>4</th>\n",
       "      <td>142</td>\n",
       "    </tr>\n",
       "    <tr>\n",
       "      <th>13376</th>\n",
       "      <td>120</td>\n",
       "    </tr>\n",
       "    <tr>\n",
       "      <th>13371</th>\n",
       "      <td>112</td>\n",
       "    </tr>\n",
       "    <tr>\n",
       "      <th>4502</th>\n",
       "      <td>104</td>\n",
       "    </tr>\n",
       "    <tr>\n",
       "      <th>7</th>\n",
       "      <td>93</td>\n",
       "    </tr>\n",
       "  </tbody>\n",
       "</table>\n",
       "</div>"
      ],
      "text/plain": [
       "          Rating\n",
       "Movie_ID        \n",
       "4501         595\n",
       "1            547\n",
       "13368        527\n",
       "9211         504\n",
       "9215         375\n",
       "9214         364\n",
       "13372        358\n",
       "9216         327\n",
       "13373        286\n",
       "4500         258\n",
       "4505         238\n",
       "4504         176\n",
       "13369        150\n",
       "2            145\n",
       "9213         143\n",
       "4            142\n",
       "13376        120\n",
       "13371        112\n",
       "4502         104\n",
       "7             93"
      ]
     },
     "execution_count": 57,
     "metadata": {},
     "output_type": "execute_result"
    }
   ],
   "source": [
    "print(\"Movies with lowest number of ratings\")\n",
    "cnt_ratings_per_movie_last_20 = cnt_ratings_per_movie[-20:]\n",
    "cnt_ratings_per_movie_last_20"
   ]
  },
  {
   "cell_type": "code",
   "execution_count": 69,
   "metadata": {
    "scrolled": false
   },
   "outputs": [
    {
     "name": "stderr",
     "output_type": "stream",
     "text": [
      "<ipython-input-69-4a36c0957bb2>:10: UserWarning: FixedFormatter should only be used together with FixedLocator\n",
      "  ax1.set_yticklabels([changingLabels(num) for num in ax.get_yticks()])\n"
     ]
    },
    {
     "data": {
      "image/png": "[encoded data removed]",
      "text/plain": [
       "<Figure size 1296x360 with 2 Axes>"
      ]
     },
     "metadata": {
      "needs_background": "light"
     },
     "output_type": "display_data"
    }
   ],
   "source": [
    "# Make subplots that are next to each other\n",
    "fig, (ax1, ax2) = plt.subplots(nrows=1, ncols=2, figsize=(18, 5))\n",
    "\n",
    "# plot rating frequency of all movies\n",
    "cnt_ratings_per_movie.reset_index(drop=True).plot(ax=ax1); \n",
    "# Add title and labels\n",
    "ax1.set_title(\"Rating Frequency of all Movies\",fontsize = 20,pad =20); #distance between title \n",
    "ax1.set_xlabel(\"Movies (sorted by number of Ratings)\",fontsize = 20, labelpad =25)\n",
    "ax1.set_ylabel(\"Number of Ratings\",fontsize = 20, labelpad =20)\n",
    "ax1.set_yticklabels([changingLabels(num) for num in ax.get_yticks()])\n",
    "\n",
    "# plot rating frequency of all movies in log scale\n",
    "cnt_ratings_per_movie.reset_index(drop=True).plot(logy = True, ax=ax2);\n",
    "\n",
    "# Add title and labels \n",
    "ax2.set_title(\"Rating Frequency of all Movies (log scaled)\",fontsize = 20, pad =20);\n",
    "ax2.set_xlabel(\"Movies (sorted by number of Ratings) \",fontsize = 20, labelpad=25) #fontdict=dict(weight='bold')\n",
    "ax2.set_ylabel(\"Number of Ratings\",fontsize = 20,labelpad=20)\n",
    "\n",
    "fig.subplots_adjust(wspace=0.3) #the amount of width reserved for space between subplots,\n",
    "# Remove empty white space around the plot\n",
    "#plt.tight_layout()\n",
    "\n",
    "# change the fontsize of minor ticks label \n",
    "ax1.tick_params(axis='both', which='major', labelsize=15)\n",
    "ax1.tick_params(axis='both', which='minor', labelsize=15)\n",
    "ax2.tick_params(axis='both', which='major', labelsize=15)\n",
    "ax2.tick_params(axis='both', which='minor', labelsize=15)\n",
    "plt.show()\n"
   ]
  },
  {
   "cell_type": "markdown",
   "metadata": {},
   "source": [
    "The distribution of ratings among movies often satisfies a property in real-world settings, which is referred to as the long-tail property. According to this property, only a small fraction of the items are rated frequently. Such items are referred to as popular items. The vast majority of items are rated rarely. This results in a highly skewed distribution of the underlying ratings.\n",
    "\n",
    "We can see that roughly X out of Y movies are rated more than 100 times. More interestingly, roughly 20,000 out of 53,889 movies are rated less than only 10 times. Let's look closer by displaying top quantiles of rating counts"
   ]
  },
  {
   "cell_type": "code",
   "execution_count": 59,
   "metadata": {
    "scrolled": true
   },
   "outputs": [],
   "source": [
    "quantiles=cnt_ratings_per_movie['Rating'].quantile(np.arange(0,1.01,0.01))"
   ]
  },
  {
   "cell_type": "code",
   "execution_count": 60,
   "metadata": {
    "scrolled": false
   },
   "outputs": [
    {
     "data": {
      "text/plain": [
       "0.00      93.0\n",
       "0.05     108.8\n",
       "0.10     124.4\n",
       "0.15     142.8\n",
       "0.20     147.0\n",
       "0.25     176.0\n",
       "0.30     250.0\n",
       "0.35     294.2\n",
       "0.40     351.8\n",
       "0.45     368.4\n",
       "0.50     504.0\n",
       "0.55     539.0\n",
       "0.60     644.2\n",
       "0.65     851.4\n",
       "0.70    1030.6\n",
       "0.75    1140.0\n",
       "0.80    1530.2\n",
       "0.85    2142.0\n",
       "0.90    2704.4\n",
       "0.95    5673.6\n",
       "1.00    7439.0\n",
       "Name: Rating, dtype: float64"
      ]
     },
     "execution_count": 60,
     "metadata": {},
     "output_type": "execute_result"
    }
   ],
   "source": [
    "quantiles[::5]"
   ]
  },
  {
   "cell_type": "code",
   "execution_count": 61,
   "metadata": {
    "scrolled": true
   },
   "outputs": [],
   "source": [
    "df_final[\"WeekDay\"] = df_final.Date.dt.day_name()\n",
    "df_final[\"Month\"] = df_final.Date.dt.month_name()"
   ]
  },
  {
   "cell_type": "code",
   "execution_count": 62,
   "metadata": {
    "scrolled": true
   },
   "outputs": [
    {
     "data": {
      "text/html": [
       "<div>\n",
       "<style scoped>\n",
       "    .dataframe tbody tr th:only-of-type {\n",
       "        vertical-align: middle;\n",
       "    }\n",
       "\n",
       "    .dataframe tbody tr th {\n",
       "        vertical-align: top;\n",
       "    }\n",
       "\n",
       "    .dataframe thead th {\n",
       "        text-align: right;\n",
       "    }\n",
       "</style>\n",
       "<table border=\"1\" class=\"dataframe\">\n",
       "  <thead>\n",
       "    <tr style=\"text-align: right;\">\n",
       "      <th></th>\n",
       "      <th>Cust_ID</th>\n",
       "      <th>Movie_ID</th>\n",
       "      <th>Rating</th>\n",
       "      <th>Date</th>\n",
       "      <th>year</th>\n",
       "      <th>month</th>\n",
       "      <th>YearOfRelease</th>\n",
       "      <th>Movie</th>\n",
       "      <th>WeekDay</th>\n",
       "      <th>Month</th>\n",
       "    </tr>\n",
       "  </thead>\n",
       "  <tbody>\n",
       "    <tr>\n",
       "      <th>0</th>\n",
       "      <td>1488844</td>\n",
       "      <td>1</td>\n",
       "      <td>3.0</td>\n",
       "      <td>2005-09-06</td>\n",
       "      <td>2005</td>\n",
       "      <td>9</td>\n",
       "      <td>2003</td>\n",
       "      <td>Dinosaur Planet</td>\n",
       "      <td>Tuesday</td>\n",
       "      <td>September</td>\n",
       "    </tr>\n",
       "    <tr>\n",
       "      <th>1</th>\n",
       "      <td>822109</td>\n",
       "      <td>1</td>\n",
       "      <td>5.0</td>\n",
       "      <td>2005-05-13</td>\n",
       "      <td>2005</td>\n",
       "      <td>5</td>\n",
       "      <td>2003</td>\n",
       "      <td>Dinosaur Planet</td>\n",
       "      <td>Friday</td>\n",
       "      <td>May</td>\n",
       "    </tr>\n",
       "    <tr>\n",
       "      <th>2</th>\n",
       "      <td>885013</td>\n",
       "      <td>1</td>\n",
       "      <td>4.0</td>\n",
       "      <td>2005-10-19</td>\n",
       "      <td>2005</td>\n",
       "      <td>10</td>\n",
       "      <td>2003</td>\n",
       "      <td>Dinosaur Planet</td>\n",
       "      <td>Wednesday</td>\n",
       "      <td>October</td>\n",
       "    </tr>\n",
       "    <tr>\n",
       "      <th>3</th>\n",
       "      <td>30878</td>\n",
       "      <td>1</td>\n",
       "      <td>4.0</td>\n",
       "      <td>2005-12-26</td>\n",
       "      <td>2005</td>\n",
       "      <td>12</td>\n",
       "      <td>2003</td>\n",
       "      <td>Dinosaur Planet</td>\n",
       "      <td>Monday</td>\n",
       "      <td>December</td>\n",
       "    </tr>\n",
       "    <tr>\n",
       "      <th>4</th>\n",
       "      <td>823519</td>\n",
       "      <td>1</td>\n",
       "      <td>3.0</td>\n",
       "      <td>2004-05-03</td>\n",
       "      <td>2004</td>\n",
       "      <td>5</td>\n",
       "      <td>2003</td>\n",
       "      <td>Dinosaur Planet</td>\n",
       "      <td>Monday</td>\n",
       "      <td>May</td>\n",
       "    </tr>\n",
       "  </tbody>\n",
       "</table>\n",
       "</div>"
      ],
      "text/plain": [
       "   Cust_ID  Movie_ID  Rating       Date  year  month  YearOfRelease  \\\n",
       "0  1488844         1     3.0 2005-09-06  2005      9           2003   \n",
       "1   822109         1     5.0 2005-05-13  2005      5           2003   \n",
       "2   885013         1     4.0 2005-10-19  2005     10           2003   \n",
       "3    30878         1     4.0 2005-12-26  2005     12           2003   \n",
       "4   823519         1     3.0 2004-05-03  2004      5           2003   \n",
       "\n",
       "             Movie    WeekDay      Month  \n",
       "0  Dinosaur Planet    Tuesday  September  \n",
       "1  Dinosaur Planet     Friday        May  \n",
       "2  Dinosaur Planet  Wednesday    October  \n",
       "3  Dinosaur Planet     Monday   December  \n",
       "4  Dinosaur Planet     Monday        May  "
      ]
     },
     "execution_count": 62,
     "metadata": {},
     "output_type": "execute_result"
    }
   ],
   "source": [
    "df_final.head()"
   ]
  },
  {
   "cell_type": "code",
   "execution_count": 63,
   "metadata": {},
   "outputs": [
    {
     "name": "stdout",
     "output_type": "stream",
     "text": [
      "Cumulative User Ratings for days of the week\n"
     ]
    },
    {
     "data": {
      "text/plain": [
       "WeekDay\n",
       "Saturday     3892\n",
       "Sunday       4296\n",
       "Friday       5395\n",
       "Thursday     5709\n",
       "Wednesday    6540\n",
       "Tuesday      7009\n",
       "Monday       7126\n",
       "Name: Rating, dtype: int64"
      ]
     },
     "execution_count": 63,
     "metadata": {},
     "output_type": "execute_result"
    }
   ],
   "source": [
    "print(\"Cumulative User Ratings for days of the week\")\n",
    "cnt_ratings_per_day = df_final.groupby('WeekDay')['Rating'].count().sort_values()\n",
    "cnt_ratings_per_day"
   ]
  },
  {
   "cell_type": "code",
   "execution_count": 64,
   "metadata": {
    "scrolled": false
   },
   "outputs": [
    {
     "name": "stderr",
     "output_type": "stream",
     "text": [
      "<ipython-input-64-e8f0f2955eb0>:7: UserWarning: FixedFormatter should only be used together with FixedLocator\n",
      "  axes.set_yticklabels([changingLabels(num) for num in ax.get_yticks()])\n"
     ]
    },
    {
     "data": {
      "image/png": "[encoded data removed]",
      "text/plain": [
       "<Figure size 720x360 with 1 Axes>"
      ]
     },
     "metadata": {
      "needs_background": "light"
     },
     "output_type": "display_data"
    }
   ],
   "source": [
    "fig = plt.figure(figsize = (10, 5))\n",
    "\n",
    "axes = sns.countplot(x = \"WeekDay\", data = df_final,order=df_final['WeekDay'].value_counts().index, color='grey',  edgecolor='black')\n",
    "axes.set_title(\"Cumulative User Ratings for days of the week\", fontsize = 20, pad =20)\n",
    "axes.set_xlabel(\"Day of the week\", fontsize = 20, labelpad=20)\n",
    "axes.set_ylabel(\"Number of Ratings\", fontsize = 20, labelpad=20)\n",
    "axes.set_yticklabels([changingLabels(num) for num in ax.get_yticks()])\n",
    "axes.tick_params(labelsize = 15)\n",
    "\n",
    "plt.show()\n"
   ]
  },
  {
   "cell_type": "code",
   "execution_count": 65,
   "metadata": {
    "scrolled": true
   },
   "outputs": [
    {
     "name": "stdout",
     "output_type": "stream",
     "text": [
      "Average Ratings on Day of Weeks\n",
      "WeekDay\n",
      "Friday       3.568489\n",
      "Monday       3.555431\n",
      "Saturday     3.539825\n",
      "Sunday       3.550978\n",
      "Thursday     3.550184\n",
      "Tuesday      3.525895\n",
      "Wednesday    3.520336\n",
      "Name: Rating, dtype: float64\n"
     ]
    }
   ],
   "source": [
    "average_ratings_dayofweek = df_final.groupby(by = \"WeekDay\")[\"Rating\"].mean()\n",
    "print(\"Average Ratings on Day of Weeks\")\n",
    "print(average_ratings_dayofweek)"
   ]
  },
  {
   "cell_type": "markdown",
   "metadata": {},
   "source": [
    "# Reference"
   ]
  },
  {
   "cell_type": "markdown",
   "metadata": {},
   "source": [
    "<a name=\"netflix-prize\"/><sup>[[1]](#ref-1) </sup>Netflix Prize data retrieved from: https://www.kaggle.com/netflix-inc/netflix-prize-data\n",
    "\n",
    "\n",
    "\n"
   ]
  }
 ],
 "metadata": {
  "kernelspec": {
   "display_name": "Python 3",
   "language": "python",
   "name": "python3"
  },
  "language_info": {
   "codemirror_mode": {
    "name": "ipython",
    "version": 3
   },
   "file_extension": ".py",
   "mimetype": "text/x-python",
   "name": "python",
   "nbconvert_exporter": "python",
   "pygments_lexer": "ipython3",
   "version": "3.9.0"
  }
 },
 "nbformat": 4,
 "nbformat_minor": 2
}
